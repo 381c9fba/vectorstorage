{
 "cells": [
  {
   "cell_type": "code",
   "execution_count": 2,
   "metadata": {},
   "outputs": [
    {
     "name": "stderr",
     "output_type": "stream",
     "text": [
      "/home/gero/.local/share/virtualenvs/vectorstorage-KAy25Pwz/lib/python3.10/site-packages/sentence_transformers/cross_encoder/CrossEncoder.py:13: TqdmWarning: IProgress not found. Please update jupyter and ipywidgets. See https://ipywidgets.readthedocs.io/en/stable/user_install.html\n",
      "  from tqdm.autonotebook import tqdm, trange\n"
     ]
    }
   ],
   "source": [
    "import pandas as pd\n",
    "from sentence_transformers import SentenceTransformer\n",
    "import json\n",
    "from tqdm.autonotebook import tqdm\n",
    "import numpy as np\n",
    "import faiss"
   ]
  },
  {
   "cell_type": "code",
   "execution_count": 3,
   "metadata": {},
   "outputs": [
    {
     "name": "stdout",
     "output_type": "stream",
     "text": [
      "Index(['video_id', 'title'], dtype='object')\n",
      "                           video_id  \\\n",
      "0  9007f33c8347924ffa12f922da2a179d   \n",
      "1  9012707c45233bd601dead57bc9e2eca   \n",
      "2  e01d6ebabbc27e323fa1b7c581e9b96a   \n",
      "3  a00b145242be3ebc3b311455e94917af   \n",
      "4  b01a682bf4dfcc09f1e8fac5bc18785a   \n",
      "\n",
      "                                               title  \n",
      "0  Пацанский клининг. Шоу «ЧистоТачка» | Повелите...  \n",
      "1  СarJitsu. 3 сезон, 6 серия. Нарек Симонян vs Ж...  \n",
      "2  Злые языки | Выпуск 1, Сезон 1 | Непорочность ...  \n",
      "3                 $1000 шоу | 1 выпуск | Автобоулинг  \n",
      "4                    В РОТ МНЕ НОТЫ #1 ВИТА ЧИКОВАНИ  \n",
      "  Уровень 1 (iab)         Уровень 2 (iab)      Уровень 3 (iab)\n",
      "0       Транспорт                     NaN                  NaN\n",
      "1       Транспорт  Типы кузова автомобиля                  NaN\n",
      "2       Транспорт  Типы кузова автомобиля  Грузовой автомобиль\n",
      "3       Транспорт  Типы кузова автомобиля                Седан\n",
      "4       Транспорт  Типы кузова автомобиля            Универсал\n",
      "Index(['Уровень 1 (iab)', 'Уровень 2 (iab)', 'Уровень 3 (iab)'], dtype='object')\n"
     ]
    }
   ],
   "source": [
    "train_data = pd.read_csv(\"train_data_categories.csv\")\n",
    "data = train_data[['video_id', 'title']]\n",
    "tags_train = train_data[\"tags\"]\n",
    "taxonomy = pd.read_csv(\"IAB_tags.csv\")\n",
    "\n",
    "print(data.columns)\n",
    "print(data.head(5))\n",
    "\n",
    "print(taxonomy.head(5))\n",
    "print(taxonomy.columns)"
   ]
  },
  {
   "cell_type": "code",
   "execution_count": 39,
   "metadata": {},
   "outputs": [
    {
     "data": {
      "text/plain": [
       "tags\n",
       "1    603\n",
       "2    364\n",
       "3     80\n",
       "4      2\n",
       "Name: count, dtype: int64"
      ]
     },
     "execution_count": 39,
     "metadata": {},
     "output_type": "execute_result"
    }
   ],
   "source": [
    "tags_train \\\n",
    "    .apply(lambda x: str(x).split(\", \")) \\\n",
    "    .apply(lambda x: len(x) if x != [\",\"] else 0) \\\n",
    "    .value_counts()"
   ]
  },
  {
   "cell_type": "code",
   "execution_count": 4,
   "metadata": {},
   "outputs": [
    {
     "name": "stderr",
     "output_type": "stream",
     "text": [
      "No sentence-transformers model found with name DeepPavlov/rubert-base-cased-sentence. Creating a new one with mean pooling.\n"
     ]
    }
   ],
   "source": [
    "model = SentenceTransformer('DeepPavlov/rubert-base-cased-sentence', )\n",
    "dim = 768 # размер вектора эмбеддинга"
   ]
  },
  {
   "cell_type": "markdown",
   "metadata": {},
   "source": [
    "#### Создаем эмбеддинги для названий видео"
   ]
  },
  {
   "cell_type": "code",
   "execution_count": 4,
   "metadata": {},
   "outputs": [
    {
     "data": {
      "text/plain": [
       "'Пацанский клининг. Шоу «ЧистоТачка» | Повелитель ночи | Выпуск 17'"
      ]
     },
     "execution_count": 4,
     "metadata": {},
     "output_type": "execute_result"
    }
   ],
   "source": [
    "data['title'][0]"
   ]
  },
  {
   "cell_type": "code",
   "execution_count": 4,
   "metadata": {},
   "outputs": [],
   "source": [
    "# data['title_vector'] = data['title'].apply(lambda l: model.encode(l, convert_to_tensor=True).cpu().numpy())"
   ]
  },
  {
   "cell_type": "markdown",
   "metadata": {},
   "source": [
    "#### Создаем векторы для тегов:\n",
    " Для каждого 1 уровня иерархии в отдельности и для следующих уровней формата уровень 1: уровень 2: уровень 3 "
   ]
  },
  {
   "cell_type": "code",
   "execution_count": 6,
   "metadata": {},
   "outputs": [
    {
     "name": "stderr",
     "output_type": "stream",
     "text": [
      "611it [00:23, 25.66it/s]\n"
     ]
    }
   ],
   "source": [
    "def get_tags():\n",
    "    tags = {}\n",
    "    for i, row in tqdm(taxonomy.iterrows()):\n",
    "        if isinstance(row['Уровень 1 (iab)'], str):\n",
    "            tags[row['Уровень 1 (iab)']] = model.encode(row['Уровень 1 (iab)'], convert_to_tensor=True).cpu().numpy()#.tolist()\n",
    "        if isinstance(row['Уровень 2 (iab)'], str):\n",
    "            tags[row['Уровень 1 (iab)']+ \": \"+row['Уровень 2 (iab)']] = model.encode(row['Уровень 1 (iab)']+ \": \"+row['Уровень 2 (iab)'], convert_to_tensor=True).cpu().numpy()#.tolist()\n",
    "        if isinstance(row['Уровень 3 (iab)'], str):\n",
    "            tags[row['Уровень 1 (iab)']+ \": \"+row['Уровень 2 (iab)']+\": \"+row['Уровень 3 (iab)']] = model.encode(row['Уровень 1 (iab)']+ \": \"+row['Уровень 2 (iab)']+\": \"+row['Уровень 3 (iab)'], convert_to_tensor=True).cpu().numpy()#.tolist()\n",
    "    return tags\n",
    "\n",
    "tags = get_tags()\n",
    "tags_list = list(tags.keys())\n",
    "vectors = np.array(list(tags.values()))"
   ]
  },
  {
   "cell_type": "code",
   "execution_count": 12,
   "metadata": {},
   "outputs": [],
   "source": [
    "import json\n",
    "\n",
    "def list_to_json(lst, filename):\n",
    "    with open(filename, 'w', encoding='utf-8') as f:\n",
    "        json.dump(lst, f, ensure_ascii=False)\n",
    "\n",
    "list_to_json(tags_list, \"tags_list.json\")"
   ]
  },
  {
   "cell_type": "code",
   "execution_count": 15,
   "metadata": {},
   "outputs": [
    {
     "data": {
      "text/plain": [
       "list"
      ]
     },
     "execution_count": 15,
     "metadata": {},
     "output_type": "execute_result"
    }
   ],
   "source": [
    "# with open(\"tags_list.json\", 'r', encoding='utf-8') as f:\n",
    "#     tags_list2 = json.load(f)\n",
    "# type(tags_list2)"
   ]
  },
  {
   "cell_type": "markdown",
   "metadata": {},
   "source": [
    "### Создаем векторную базу faiss для эффективного векторного поиска"
   ]
  },
  {
   "cell_type": "code",
   "execution_count": 22,
   "metadata": {},
   "outputs": [
    {
     "name": "stdout",
     "output_type": "stream",
     "text": [
      "0\n",
      "610\n"
     ]
    }
   ],
   "source": [
    "index = faiss.index_factory(dim, \"Flat\", faiss.METRIC_INNER_PRODUCT)\n",
    "print(index.ntotal)\n",
    "index.add(vectors)\n",
    "print(index.ntotal)"
   ]
  },
  {
   "cell_type": "code",
   "execution_count": 23,
   "metadata": {},
   "outputs": [],
   "source": [
    "faiss.write_index(index, \"tags_index.ivf\")"
   ]
  },
  {
   "cell_type": "markdown",
   "metadata": {},
   "source": [
    "#### Смотрим несколько получившихся примеров \n",
    "Генерим по 3 близких предсказания для каждого названия видео"
   ]
  },
  {
   "cell_type": "code",
   "execution_count": null,
   "metadata": {},
   "outputs": [],
   "source": [
    "topn = 3\n",
    "scores, predictions = index.search(np.array(data['title_vector'].to_list()[:10]), topn)\n",
    "for j, i in enumerate(predictions):\n",
    "    print(\"SCORES\", scores[j])\n",
    "    print(\"PREDICTION_by_title\", np.array(tags_list)[predictions[j]])\n",
    "    print(\"SAMPLE\", data['title'].to_list()[:10][j])\n",
    "    print(\"\\n\")"
   ]
  },
  {
   "cell_type": "code",
   "execution_count": null,
   "metadata": {},
   "outputs": [],
   "source": []
  }
 ],
 "metadata": {
  "kernelspec": {
   "display_name": "vectorstorage-KAy25Pwz",
   "language": "python",
   "name": "vectorstorage-kay25pwz"
  },
  "language_info": {
   "codemirror_mode": {
    "name": "ipython",
    "version": 3
   },
   "file_extension": ".py",
   "mimetype": "text/x-python",
   "name": "python",
   "nbconvert_exporter": "python",
   "pygments_lexer": "ipython3",
   "version": "3.10.12"
  }
 },
 "nbformat": 4,
 "nbformat_minor": 2
}
